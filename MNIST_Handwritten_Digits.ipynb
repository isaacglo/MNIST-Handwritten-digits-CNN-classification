{
  "nbformat": 4,
  "nbformat_minor": 0,
  "metadata": {
    "colab": {
      "name": "MNIST_Handwritten_Digits",
      "provenance": [],
      "collapsed_sections": []
    },
    "kernelspec": {
      "name": "python3",
      "display_name": "Python 3"
    },
    "language_info": {
      "name": "python"
    }
  },
  "cells": [
    {
      "cell_type": "markdown",
      "metadata": {
        "id": "wQ5IEAeBtIiG"
      },
      "source": [
        "# Handwritten digits recognizer with Convolutional Neaural Network (CNN)\n",
        "\n",
        "This notebook presents a simple, but effective CNN applied to the MNIST handwritten digits dataset. The model to be used was built with TensorFlow."
      ]
    },
    {
      "cell_type": "markdown",
      "metadata": {
        "id": "jR6XkyN208B8"
      },
      "source": [
        "## Data processing"
      ]
    },
    {
      "cell_type": "markdown",
      "metadata": {
        "id": "6Yz5ze32z-c2"
      },
      "source": [
        "The first step is to import all of the libraries needed for the project. "
      ]
    },
    {
      "cell_type": "code",
      "metadata": {
        "id": "5X64o_ixrBbu"
      },
      "source": [
        "import pandas as pd\n",
        "import numpy as np\n",
        "import matplotlib.pyplot as plt\n",
        "import matplotlib.image as mpimg\n",
        "import zipfile"
      ],
      "execution_count": null,
      "outputs": []
    },
    {
      "cell_type": "markdown",
      "metadata": {
        "id": "XknmMsyg0ycE"
      },
      "source": [
        "We read the two .csv  given for the project: the train set and the test set. The train set has one extra (the first column) column with the label of its respective image, so we can properly train the model."
      ]
    },
    {
      "cell_type": "code",
      "metadata": {
        "colab": {
          "base_uri": "https://localhost:8080/"
        },
        "id": "rz5lJy5ZAMc_",
        "outputId": "9c739c79-fb8c-4e45-9659-6a0089089900"
      },
      "source": [
        "from google.colab import drive\n",
        "drive.mount('/content/drive')"
      ],
      "execution_count": null,
      "outputs": [
        {
          "output_type": "stream",
          "name": "stdout",
          "text": [
            "Mounted at /content/drive\n"
          ]
        }
      ]
    },
    {
      "cell_type": "code",
      "metadata": {
        "id": "rhFVurNzrUgH"
      },
      "source": [
        "train = pd.read_csv('/content/drive/MyDrive/MNIST/train.csv')\n",
        "test = pd.read_csv('/content/drive/MyDrive/MNIST/test.csv')\n"
      ],
      "execution_count": null,
      "outputs": []
    },
    {
      "cell_type": "markdown",
      "metadata": {
        "id": "Heq8qNBT1gIG"
      },
      "source": [
        "To use the data we have to transform the information given by the csv files to numpy arrays."
      ]
    },
    {
      "cell_type": "code",
      "metadata": {
        "colab": {
          "base_uri": "https://localhost:8080/"
        },
        "id": "m76_2cSxsjOB",
        "outputId": "f35cd361-2a90-408d-965b-0b5ef2465418"
      },
      "source": [
        "trainimg = train.to_numpy()\n",
        "trainimg.shape"
      ],
      "execution_count": null,
      "outputs": [
        {
          "output_type": "execute_result",
          "data": {
            "text/plain": [
              "(42000, 785)"
            ]
          },
          "metadata": {},
          "execution_count": 29
        }
      ]
    },
    {
      "cell_type": "markdown",
      "metadata": {
        "id": "NQn2KvYo1zNd"
      },
      "source": [
        "As we can see, the images have 28x28 flatten pixels (one row with the 784 pixels), therefore we have to reshape the array so we can use it. In the next cell we show 8 random images from the dataset."
      ]
    },
    {
      "cell_type": "code",
      "metadata": {
        "colab": {
          "base_uri": "https://localhost:8080/",
          "height": 377
        },
        "id": "UPo4Mh50tOgs",
        "outputId": "adc4f663-ce9c-4451-9333-087c73ef991b"
      },
      "source": [
        "img = []\n",
        "for i in range(8):\n",
        "  r = np.random.randint(0, len(trainimg))\n",
        "  img.append(trainimg[r , 1:].reshape((28,28)))\n",
        "  print(f'Digit: {trainimg[r ,0]}', r)\n",
        "\n",
        "f, ax = plt.subplots(2,4)\n",
        "for i in range(2):\n",
        "  for j in range(4):\n",
        "    ax[i][j].imshow(img[4*i+j], cmap='gray')\n"
      ],
      "execution_count": null,
      "outputs": [
        {
          "output_type": "stream",
          "text": [
            "Digit: 0 9359\n",
            "Digit: 0 20850\n",
            "Digit: 2 21183\n",
            "Digit: 0 19835\n",
            "Digit: 8 1396\n",
            "Digit: 5 14729\n",
            "Digit: 2 21559\n",
            "Digit: 1 18781\n"
          ],
          "name": "stdout"
        },
        {
          "output_type": "display_data",
          "data": {
            "image/png": "[encoded data removed]",
            "text/plain": [
              "<Figure size 432x288 with 8 Axes>"
            ]
          },
          "metadata": {
            "tags": [],
            "needs_background": "light"
          }
        }
      ]
    },
    {
      "cell_type": "markdown",
      "metadata": {
        "id": "FAhcrsXk_ip4"
      },
      "source": [
        "we do the same reshape with the test set."
      ]
    },
    {
      "cell_type": "code",
      "metadata": {
        "colab": {
          "base_uri": "https://localhost:8080/"
        },
        "id": "VHp5k9QuLets",
        "outputId": "9017ca23-0484-4ef7-f18b-a54721489517"
      },
      "source": [
        "test_img = test.to_numpy().reshape(28000,28,28,1)\n",
        "test_img.shape"
      ],
      "execution_count": null,
      "outputs": [
        {
          "output_type": "execute_result",
          "data": {
            "text/plain": [
              "(28000, 28, 28, 1)"
            ]
          },
          "metadata": {
            "tags": []
          },
          "execution_count": 36
        }
      ]
    },
    {
      "cell_type": "markdown",
      "metadata": {
        "id": "P-muCafhRK6b"
      },
      "source": [
        "## Convolutional Neural Network\n",
        "Here is going to be used a CNN to classify the images of the MNIST handwritten digits database. To train the model we divide the the train set into the set of images and their respective labels. we also divide that set into two sets so we can use one of them to train the model and the other one to use as the validation set. "
      ]
    },
    {
      "cell_type": "code",
      "metadata": {
        "id": "CEbRsxvURY7c"
      },
      "source": [
        "import tensorflow as tf\n",
        "from sklearn.model_selection import train_test_split\n",
        "\n",
        "train_x, train_y = train.to_numpy()[:,1:].reshape(42000,28,28,1), train.to_numpy()[:,0]\n",
        "\n",
        "trainx, valx, trainy, valy = train_test_split(train_x, train_y, test_size=0.20)\n"
      ],
      "execution_count": null,
      "outputs": []
    },
    {
      "cell_type": "markdown",
      "metadata": {
        "id": "BAJcpVEPzdRv"
      },
      "source": [
        "Now we build the CNN. We are going to use one convolutional layer, a pooling layer, a hidden layer and an output layer. "
      ]
    },
    {
      "cell_type": "code",
      "metadata": {
        "id": "bMaJBUCLuaNZ"
      },
      "source": [
        "model = tf.keras.models.Sequential([\n",
        "        tf.keras.layers.Conv2D(32, (3,3), activation='relu', input_shape=(28, 28, 1)),\n",
        "        tf.keras.layers.MaxPooling2D(2, 2),\n",
        "        tf.keras.layers.Flatten(),\n",
        "        tf.keras.layers.Dense(128, activation='relu'),\n",
        "        tf.keras.layers.Dense(10, activation='softmax')\n",
        "    ])\n"
      ],
      "execution_count": null,
      "outputs": []
    },
    {
      "cell_type": "markdown",
      "metadata": {
        "id": "NieKmQkW0DKK"
      },
      "source": [
        "Next, we define the optimizer, the loss function and the metrics to review. Here we also train the model using the numpy array previously defined with a fixed number of epochs."
      ]
    },
    {
      "cell_type": "code",
      "metadata": {
        "colab": {
          "base_uri": "https://localhost:8080/"
        },
        "id": "BxNHdivvusvs",
        "outputId": "1caf14ba-8f63-4488-862e-d0081e6724d8"
      },
      "source": [
        "model.compile(optimizer='adam', loss='sparse_categorical_crossentropy', metrics=['accuracy'])\n",
        "epoch = 10\n",
        "model_his = model.fit(\n",
        "        trainx, trainy, epochs=epoch\n",
        "    )"
      ],
      "execution_count": null,
      "outputs": [
        {
          "output_type": "stream",
          "text": [
            "Epoch 1/10\n",
            "1050/1050 [==============================] - 21s 20ms/step - loss: 1.0621 - accuracy: 0.8990\n",
            "Epoch 2/10\n",
            "1050/1050 [==============================] - 21s 20ms/step - loss: 0.1223 - accuracy: 0.9645\n",
            "Epoch 3/10\n",
            "1050/1050 [==============================] - 21s 20ms/step - loss: 0.0716 - accuracy: 0.9783\n",
            "Epoch 4/10\n",
            "1050/1050 [==============================] - 21s 20ms/step - loss: 0.0574 - accuracy: 0.9818\n",
            "Epoch 5/10\n",
            "1050/1050 [==============================] - 21s 20ms/step - loss: 0.0410 - accuracy: 0.9869\n",
            "Epoch 6/10\n",
            "1050/1050 [==============================] - 21s 20ms/step - loss: 0.0351 - accuracy: 0.9890\n",
            "Epoch 7/10\n",
            "1050/1050 [==============================] - 21s 20ms/step - loss: 0.0347 - accuracy: 0.9893\n",
            "Epoch 8/10\n",
            "1050/1050 [==============================] - 20s 20ms/step - loss: 0.0275 - accuracy: 0.9921\n",
            "Epoch 9/10\n",
            "1050/1050 [==============================] - 20s 19ms/step - loss: 0.0212 - accuracy: 0.9928\n",
            "Epoch 10/10\n",
            "1050/1050 [==============================] - 20s 19ms/step - loss: 0.0236 - accuracy: 0.9929\n"
          ],
          "name": "stdout"
        }
      ]
    },
    {
      "cell_type": "markdown",
      "metadata": {
        "id": "WFVh7gOR1xK8"
      },
      "source": [
        "We check the accuracy and loss behaviour through the training. "
      ]
    },
    {
      "cell_type": "code",
      "metadata": {
        "id": "dGSfTtoO0jvJ"
      },
      "source": [
        "x = np.arange(1, epoch + 1)\n",
        "train_acc = model_his.history['accuracy']\n",
        "train_loss = model_his.history['loss']"
      ],
      "execution_count": null,
      "outputs": []
    },
    {
      "cell_type": "code",
      "metadata": {
        "colab": {
          "base_uri": "https://localhost:8080/",
          "height": 513
        },
        "id": "vZUGigbm0ug8",
        "outputId": "79692ac5-8b72-49fb-f738-17e1f2106e37"
      },
      "source": [
        "plt.plot(x , train_acc)\n",
        "plt.show()\n",
        "plt.plot(x , train_loss)\n",
        "plt.show()"
      ],
      "execution_count": null,
      "outputs": [
        {
          "output_type": "display_data",
          "data": {
            "image/png": "[encoded data removed]",
            "text/plain": [
              "<Figure size 432x288 with 1 Axes>"
            ]
          },
          "metadata": {
            "tags": [],
            "needs_background": "light"
          }
        },
        {
          "output_type": "display_data",
          "data": {
            "image/png": "[encoded data removed]",
            "text/plain": [
              "<Figure size 432x288 with 1 Axes>"
            ]
          },
          "metadata": {
            "tags": [],
            "needs_background": "light"
          }
        }
      ]
    },
    {
      "cell_type": "markdown",
      "metadata": {
        "id": "VbNHFp7919lm"
      },
      "source": [
        "Make the prediction for the instances from the test set. The next two cells create (or modify) the arrays so it can be used for the accuracy."
      ]
    },
    {
      "cell_type": "code",
      "metadata": {
        "id": "Yt05yryMwg4x"
      },
      "source": [
        "prediction = model.predict(valx)\n",
        "for i in range(len(prediction)):\n",
        "  n = np.argmax(prediction[i,:])\n",
        "  prediction[i,n] = 1\n",
        "  prediction[i,:] = prediction[i,:].round()"
      ],
      "execution_count": null,
      "outputs": []
    },
    {
      "cell_type": "code",
      "metadata": {
        "id": "WNbC9Fsp9Q0s"
      },
      "source": [
        "val_true = np.zeros((len(valy),10))\n",
        "\n",
        "for i,j in enumerate(valy):\n",
        "  val_true[i,j] = 1"
      ],
      "execution_count": null,
      "outputs": []
    },
    {
      "cell_type": "markdown",
      "metadata": {
        "id": "dXv_siqu7183"
      },
      "source": [
        "Finally we compute the accuracy for the validation set."
      ]
    },
    {
      "cell_type": "code",
      "metadata": {
        "colab": {
          "base_uri": "https://localhost:8080/"
        },
        "id": "nPSuCcFBvy0Y",
        "outputId": "2d4776d7-ef4e-4a83-ec8a-4f96bb280af5"
      },
      "source": [
        "from sklearn.metrics import accuracy_score\n",
        "\n",
        "my_accuracy = accuracy_score(val_true.astype('int32'), prediction.astype('int32'))\n",
        "print('Accuracy: ', my_accuracy)\n"
      ],
      "execution_count": null,
      "outputs": [
        {
          "output_type": "stream",
          "text": [
            "Accuracy:  0.9758333333333333\n"
          ],
          "name": "stdout"
        }
      ]
    },
    {
      "cell_type": "markdown",
      "metadata": {
        "id": "u6OfIZZY76qC"
      },
      "source": [
        "The following cell are used for the prediction of the test set (for the kaggle score)."
      ]
    },
    {
      "cell_type": "code",
      "metadata": {
        "colab": {
          "base_uri": "https://localhost:8080/"
        },
        "id": "ZywmrjthLSy8",
        "outputId": "eed136d2-fb65-43bb-9430-132bd4cb0822"
      },
      "source": [
        "prediction_test = model.predict(test_img)\n",
        "prediction_test.shape"
      ],
      "execution_count": null,
      "outputs": [
        {
          "output_type": "execute_result",
          "data": {
            "text/plain": [
              "(28000, 10)"
            ]
          },
          "metadata": {
            "tags": []
          },
          "execution_count": 45
        }
      ]
    },
    {
      "cell_type": "code",
      "metadata": {
        "colab": {
          "base_uri": "https://localhost:8080/"
        },
        "id": "FRXfOdQzMbfT",
        "outputId": "d7a04200-6c44-41e5-d01d-a3f94f5c59f5"
      },
      "source": [
        "pred = np.zeros((28000,1))\n",
        "\n",
        "for i in range(28000):\n",
        "  pred[i] = np.argmax(prediction_test[i,:])\n",
        "\n",
        "pred.shape"
      ],
      "execution_count": null,
      "outputs": [
        {
          "output_type": "execute_result",
          "data": {
            "text/plain": [
              "(28000, 1)"
            ]
          },
          "metadata": {
            "tags": []
          },
          "execution_count": 46
        }
      ]
    },
    {
      "cell_type": "code",
      "metadata": {
        "id": "lZ3PbW4yMxny"
      },
      "source": [
        "ind = pd.DataFrame(np.arange(1,28001), columns=['ImageId'])\n",
        "\n",
        "pred_sub = pd.DataFrame(pred.astype('int32'), columns=['Label'])\n",
        "submission = [ind , pred_sub]\n",
        "sub = pd.concat(submission, axis=1)"
      ],
      "execution_count": null,
      "outputs": []
    },
    {
      "cell_type": "code",
      "metadata": {
        "id": "SyLeeJFBOZba"
      },
      "source": [
        "compression_opts = dict(method='zip',\n",
        "                        archive_name='submission.csv')  \n",
        "\n",
        "sub.to_csv('submission.zip', index=False, compression=compression_opts)"
      ],
      "execution_count": null,
      "outputs": []
    },
    {
      "cell_type": "code",
      "metadata": {
        "colab": {
          "base_uri": "https://localhost:8080/",
          "height": 417
        },
        "id": "uplVs0ugPjdw",
        "outputId": "e79a8d7d-6f0f-413e-a4b4-bec3b98a6a9f"
      },
      "source": [
        "pd.read_csv('submission.zip')"
      ],
      "execution_count": null,
      "outputs": [
        {
          "output_type": "execute_result",
          "data": {
            "text/html": [
              "<div>\n",
              "<style scoped>\n",
              "    .dataframe tbody tr th:only-of-type {\n",
              "        vertical-align: middle;\n",
              "    }\n",
              "\n",
              "    .dataframe tbody tr th {\n",
              "        vertical-align: top;\n",
              "    }\n",
              "\n",
              "    .dataframe thead th {\n",
              "        text-align: right;\n",
              "    }\n",
              "</style>\n",
              "<table border=\"1\" class=\"dataframe\">\n",
              "  <thead>\n",
              "    <tr style=\"text-align: right;\">\n",
              "      <th></th>\n",
              "      <th>ImageId</th>\n",
              "      <th>Label</th>\n",
              "    </tr>\n",
              "  </thead>\n",
              "  <tbody>\n",
              "    <tr>\n",
              "      <th>0</th>\n",
              "      <td>1</td>\n",
              "      <td>2</td>\n",
              "    </tr>\n",
              "    <tr>\n",
              "      <th>1</th>\n",
              "      <td>2</td>\n",
              "      <td>0</td>\n",
              "    </tr>\n",
              "    <tr>\n",
              "      <th>2</th>\n",
              "      <td>3</td>\n",
              "      <td>9</td>\n",
              "    </tr>\n",
              "    <tr>\n",
              "      <th>3</th>\n",
              "      <td>4</td>\n",
              "      <td>9</td>\n",
              "    </tr>\n",
              "    <tr>\n",
              "      <th>4</th>\n",
              "      <td>5</td>\n",
              "      <td>3</td>\n",
              "    </tr>\n",
              "    <tr>\n",
              "      <th>...</th>\n",
              "      <td>...</td>\n",
              "      <td>...</td>\n",
              "    </tr>\n",
              "    <tr>\n",
              "      <th>27995</th>\n",
              "      <td>27996</td>\n",
              "      <td>9</td>\n",
              "    </tr>\n",
              "    <tr>\n",
              "      <th>27996</th>\n",
              "      <td>27997</td>\n",
              "      <td>7</td>\n",
              "    </tr>\n",
              "    <tr>\n",
              "      <th>27997</th>\n",
              "      <td>27998</td>\n",
              "      <td>3</td>\n",
              "    </tr>\n",
              "    <tr>\n",
              "      <th>27998</th>\n",
              "      <td>27999</td>\n",
              "      <td>9</td>\n",
              "    </tr>\n",
              "    <tr>\n",
              "      <th>27999</th>\n",
              "      <td>28000</td>\n",
              "      <td>2</td>\n",
              "    </tr>\n",
              "  </tbody>\n",
              "</table>\n",
              "<p>28000 rows × 2 columns</p>\n",
              "</div>"
            ],
            "text/plain": [
              "       ImageId  Label\n",
              "0            1      2\n",
              "1            2      0\n",
              "2            3      9\n",
              "3            4      9\n",
              "4            5      3\n",
              "...        ...    ...\n",
              "27995    27996      9\n",
              "27996    27997      7\n",
              "27997    27998      3\n",
              "27998    27999      9\n",
              "27999    28000      2\n",
              "\n",
              "[28000 rows x 2 columns]"
            ]
          },
          "metadata": {
            "tags": []
          },
          "execution_count": 49
        }
      ]
    }
  ]
}